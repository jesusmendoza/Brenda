{
 "cells": [
  {
   "cell_type": "markdown",
   "metadata": {},
   "source": [
    "# Cargamos las librerías\n"
   ]
  },
  {
   "cell_type": "code",
   "execution_count": 521,
   "metadata": {
    "scrolled": true
   },
   "outputs": [],
   "source": [
    "import pandas as pd\n",
    "import matplotlib.pyplot as plt\n",
    "import seaborn as sns\n",
    "import numpy as np\n",
    "sns.set(style=\"white\")\n",
    "sns.set(style=\"whitegrid\", color_codes=True)\n",
    "from sklearn import linear_model, metrics,tree,ensemble\n",
    "from sklearn.model_selection import cross_val_predict\n",
    "from sklearn.metrics import r2_score,classification_report\n",
    "from sklearn.linear_model import LogisticRegression\n",
    "from sklearn.cross_validation import train_test_split\n",
    "\n",
    "\n",
    "%matplotlib inline\n",
    "import warnings; warnings.simplefilter('ignore')\n",
    "\n"
   ]
  },
  {
   "cell_type": "markdown",
   "metadata": {},
   "source": [
    "# Leer la data\n"
   ]
  },
  {
   "cell_type": "code",
   "execution_count": 522,
   "metadata": {
    "collapsed": true
   },
   "outputs": [],
   "source": [
    "df=pd.read_csv('data.csv')\n"
   ]
  },
  {
   "cell_type": "markdown",
   "metadata": {},
   "source": [
    "# Data\n",
    "\n",
    "- G   : Género\n",
    "- E   : Edad\n",
    "- NEU : Neutrofilos\n",
    "- LIN : Linfocitos\n",
    "- RNL : Relación Neutrófilo Linfocito\n",
    "- DX1 : Diagnóstico 1\n",
    "- DX2 : Diagnóstico 2\n",
    "- DX3 : Diagnóstico 3\n",
    "- DX4 : Diangóstico 4\n",
    "- ME  : Motivo de Egreso {M: 'Mejoría',D: 'Defunsión'}\n"
   ]
  },
  {
   "cell_type": "code",
   "execution_count": 523,
   "metadata": {},
   "outputs": [
    {
     "data": {
      "text/html": [
       "<div>\n",
       "<style>\n",
       "    .dataframe thead tr:only-child th {\n",
       "        text-align: right;\n",
       "    }\n",
       "\n",
       "    .dataframe thead th {\n",
       "        text-align: left;\n",
       "    }\n",
       "\n",
       "    .dataframe tbody tr th {\n",
       "        vertical-align: top;\n",
       "    }\n",
       "</style>\n",
       "<table border=\"1\" class=\"dataframe\">\n",
       "  <thead>\n",
       "    <tr style=\"text-align: right;\">\n",
       "      <th></th>\n",
       "      <th>Nombre</th>\n",
       "      <th>G</th>\n",
       "      <th>E</th>\n",
       "      <th>NEU</th>\n",
       "      <th>LIN</th>\n",
       "      <th>RNL</th>\n",
       "      <th>DX1</th>\n",
       "      <th>DX2</th>\n",
       "      <th>DX3</th>\n",
       "      <th>DX4</th>\n",
       "      <th>ME</th>\n",
       "    </tr>\n",
       "  </thead>\n",
       "  <tbody>\n",
       "    <tr>\n",
       "      <th>0</th>\n",
       "      <td>AGUILAR TORRES JUANITA</td>\n",
       "      <td>M</td>\n",
       "      <td>64</td>\n",
       "      <td>13.81</td>\n",
       "      <td>2.12</td>\n",
       "      <td>6.51</td>\n",
       "      <td>CHS</td>\n",
       "      <td>ABDO</td>\n",
       "      <td>NaN</td>\n",
       "      <td>NaN</td>\n",
       "      <td>M</td>\n",
       "    </tr>\n",
       "    <tr>\n",
       "      <th>1</th>\n",
       "      <td>AGUINAGA REYES MARIA LUISA</td>\n",
       "      <td>M</td>\n",
       "      <td>78</td>\n",
       "      <td>8.79</td>\n",
       "      <td>1.58</td>\n",
       "      <td>5.56</td>\n",
       "      <td>IAM</td>\n",
       "      <td>NaN</td>\n",
       "      <td>NaN</td>\n",
       "      <td>NaN</td>\n",
       "      <td>M</td>\n",
       "    </tr>\n",
       "    <tr>\n",
       "      <th>2</th>\n",
       "      <td>ALARCON GOMEZ FRANCISCO</td>\n",
       "      <td>H</td>\n",
       "      <td>96</td>\n",
       "      <td>4.18</td>\n",
       "      <td>0.93</td>\n",
       "      <td>4.49</td>\n",
       "      <td>IAM</td>\n",
       "      <td>NaN</td>\n",
       "      <td>NaN</td>\n",
       "      <td>NaN</td>\n",
       "      <td>M</td>\n",
       "    </tr>\n",
       "    <tr>\n",
       "      <th>3</th>\n",
       "      <td>ALVA MUCIÑO ESTHER</td>\n",
       "      <td>M</td>\n",
       "      <td>56</td>\n",
       "      <td>8.87</td>\n",
       "      <td>2.75</td>\n",
       "      <td>3.23</td>\n",
       "      <td>EHHNC</td>\n",
       "      <td>NaN</td>\n",
       "      <td>NaN</td>\n",
       "      <td>NaN</td>\n",
       "      <td>M</td>\n",
       "    </tr>\n",
       "    <tr>\n",
       "      <th>4</th>\n",
       "      <td>ALVA SEGURA FERNANDO</td>\n",
       "      <td>H</td>\n",
       "      <td>75</td>\n",
       "      <td>5.97</td>\n",
       "      <td>1.12</td>\n",
       "      <td>5.33</td>\n",
       "      <td>IAM</td>\n",
       "      <td>NaN</td>\n",
       "      <td>NaN</td>\n",
       "      <td>NaN</td>\n",
       "      <td>M</td>\n",
       "    </tr>\n",
       "  </tbody>\n",
       "</table>\n",
       "</div>"
      ],
      "text/plain": [
       "                       Nombre  G   E    NEU   LIN   RNL    DX1   DX2  DX3  \\\n",
       "0      AGUILAR TORRES JUANITA  M  64  13.81  2.12  6.51    CHS  ABDO  NaN   \n",
       "1  AGUINAGA REYES MARIA LUISA  M  78   8.79  1.58  5.56    IAM   NaN  NaN   \n",
       "2     ALARCON GOMEZ FRANCISCO  H  96   4.18  0.93  4.49    IAM   NaN  NaN   \n",
       "3          ALVA MUCIÑO ESTHER  M  56   8.87  2.75  3.23  EHHNC   NaN  NaN   \n",
       "4        ALVA SEGURA FERNANDO  H  75   5.97  1.12  5.33    IAM   NaN  NaN   \n",
       "\n",
       "   DX4 ME  \n",
       "0  NaN  M  \n",
       "1  NaN  M  \n",
       "2  NaN  M  \n",
       "3  NaN  M  \n",
       "4  NaN  M  "
      ]
     },
     "execution_count": 523,
     "metadata": {},
     "output_type": "execute_result"
    }
   ],
   "source": [
    "df.head()"
   ]
  },
  {
   "cell_type": "markdown",
   "metadata": {},
   "source": [
    "# Análisis descriptivo"
   ]
  },
  {
   "cell_type": "code",
   "execution_count": null,
   "metadata": {
    "collapsed": true
   },
   "outputs": [],
   "source": []
  },
  {
   "cell_type": "code",
   "execution_count": 524,
   "metadata": {},
   "outputs": [
    {
     "data": {
      "text/plain": [
       "array([[<matplotlib.axes._subplots.AxesSubplot object at 0x7f4848fe3a90>,\n",
       "        <matplotlib.axes._subplots.AxesSubplot object at 0x7f4848eb7cc0>],\n",
       "       [<matplotlib.axes._subplots.AxesSubplot object at 0x7f4848ef5898>,\n",
       "        <matplotlib.axes._subplots.AxesSubplot object at 0x7f4848df5c18>]], dtype=object)"
      ]
     },
     "execution_count": 524,
     "metadata": {},
     "output_type": "execute_result"
    },
    {
     "data": {
      "image/png": "[encoded data removed]",
      "text/plain": [
       "<matplotlib.figure.Figure at 0x7f4849039c18>"
      ]
     },
     "metadata": {},
     "output_type": "display_data"
    }
   ],
   "source": [
    "df.hist()"
   ]
  },
  {
   "cell_type": "code",
   "execution_count": 525,
   "metadata": {},
   "outputs": [
    {
     "data": {
      "text/html": [
       "<div>\n",
       "<style>\n",
       "    .dataframe thead tr:only-child th {\n",
       "        text-align: right;\n",
       "    }\n",
       "\n",
       "    .dataframe thead th {\n",
       "        text-align: left;\n",
       "    }\n",
       "\n",
       "    .dataframe tbody tr th {\n",
       "        vertical-align: top;\n",
       "    }\n",
       "</style>\n",
       "<table border=\"1\" class=\"dataframe\">\n",
       "  <thead>\n",
       "    <tr style=\"text-align: right;\">\n",
       "      <th></th>\n",
       "      <th>Nombre</th>\n",
       "      <th>E</th>\n",
       "      <th>NEU</th>\n",
       "      <th>LIN</th>\n",
       "      <th>RNL</th>\n",
       "      <th>DX1</th>\n",
       "      <th>DX2</th>\n",
       "      <th>DX3</th>\n",
       "      <th>DX4</th>\n",
       "      <th>ME</th>\n",
       "    </tr>\n",
       "    <tr>\n",
       "      <th>G</th>\n",
       "      <th></th>\n",
       "      <th></th>\n",
       "      <th></th>\n",
       "      <th></th>\n",
       "      <th></th>\n",
       "      <th></th>\n",
       "      <th></th>\n",
       "      <th></th>\n",
       "      <th></th>\n",
       "      <th></th>\n",
       "    </tr>\n",
       "  </thead>\n",
       "  <tbody>\n",
       "    <tr>\n",
       "      <th>H</th>\n",
       "      <td>79</td>\n",
       "      <td>79</td>\n",
       "      <td>79</td>\n",
       "      <td>79</td>\n",
       "      <td>79</td>\n",
       "      <td>79</td>\n",
       "      <td>31</td>\n",
       "      <td>11</td>\n",
       "      <td>0</td>\n",
       "      <td>79</td>\n",
       "    </tr>\n",
       "    <tr>\n",
       "      <th>M</th>\n",
       "      <td>80</td>\n",
       "      <td>80</td>\n",
       "      <td>80</td>\n",
       "      <td>80</td>\n",
       "      <td>80</td>\n",
       "      <td>80</td>\n",
       "      <td>44</td>\n",
       "      <td>13</td>\n",
       "      <td>1</td>\n",
       "      <td>80</td>\n",
       "    </tr>\n",
       "  </tbody>\n",
       "</table>\n",
       "</div>"
      ],
      "text/plain": [
       "   Nombre   E  NEU  LIN  RNL  DX1  DX2  DX3  DX4  ME\n",
       "G                                                   \n",
       "H      79  79   79   79   79   79   31   11    0  79\n",
       "M      80  80   80   80   80   80   44   13    1  80"
      ]
     },
     "execution_count": 525,
     "metadata": {},
     "output_type": "execute_result"
    }
   ],
   "source": [
    "df.groupby('G').count()"
   ]
  },
  {
   "cell_type": "code",
   "execution_count": 526,
   "metadata": {},
   "outputs": [
    {
     "data": {
      "text/html": [
       "<div>\n",
       "<style>\n",
       "    .dataframe thead tr:only-child th {\n",
       "        text-align: right;\n",
       "    }\n",
       "\n",
       "    .dataframe thead th {\n",
       "        text-align: left;\n",
       "    }\n",
       "\n",
       "    .dataframe tbody tr th {\n",
       "        vertical-align: top;\n",
       "    }\n",
       "</style>\n",
       "<table border=\"1\" class=\"dataframe\">\n",
       "  <thead>\n",
       "    <tr style=\"text-align: right;\">\n",
       "      <th></th>\n",
       "      <th>Nombre</th>\n",
       "      <th>G</th>\n",
       "      <th>E</th>\n",
       "      <th>NEU</th>\n",
       "      <th>LIN</th>\n",
       "      <th>RNL</th>\n",
       "      <th>DX1</th>\n",
       "      <th>DX2</th>\n",
       "      <th>DX3</th>\n",
       "      <th>DX4</th>\n",
       "    </tr>\n",
       "    <tr>\n",
       "      <th>ME</th>\n",
       "      <th></th>\n",
       "      <th></th>\n",
       "      <th></th>\n",
       "      <th></th>\n",
       "      <th></th>\n",
       "      <th></th>\n",
       "      <th></th>\n",
       "      <th></th>\n",
       "      <th></th>\n",
       "      <th></th>\n",
       "    </tr>\n",
       "  </thead>\n",
       "  <tbody>\n",
       "    <tr>\n",
       "      <th>D</th>\n",
       "      <td>35</td>\n",
       "      <td>35</td>\n",
       "      <td>35</td>\n",
       "      <td>35</td>\n",
       "      <td>35</td>\n",
       "      <td>35</td>\n",
       "      <td>35</td>\n",
       "      <td>29</td>\n",
       "      <td>10</td>\n",
       "      <td>1</td>\n",
       "    </tr>\n",
       "    <tr>\n",
       "      <th>M</th>\n",
       "      <td>124</td>\n",
       "      <td>124</td>\n",
       "      <td>124</td>\n",
       "      <td>124</td>\n",
       "      <td>124</td>\n",
       "      <td>124</td>\n",
       "      <td>124</td>\n",
       "      <td>46</td>\n",
       "      <td>14</td>\n",
       "      <td>0</td>\n",
       "    </tr>\n",
       "  </tbody>\n",
       "</table>\n",
       "</div>"
      ],
      "text/plain": [
       "    Nombre    G    E  NEU  LIN  RNL  DX1  DX2  DX3  DX4\n",
       "ME                                                     \n",
       "D       35   35   35   35   35   35   35   29   10    1\n",
       "M      124  124  124  124  124  124  124   46   14    0"
      ]
     },
     "execution_count": 526,
     "metadata": {},
     "output_type": "execute_result"
    }
   ],
   "source": [
    "df.groupby('ME').count()"
   ]
  },
  {
   "cell_type": "code",
   "execution_count": 527,
   "metadata": {},
   "outputs": [
    {
     "data": {
      "text/html": [
       "<div>\n",
       "<style>\n",
       "    .dataframe thead tr:only-child th {\n",
       "        text-align: right;\n",
       "    }\n",
       "\n",
       "    .dataframe thead th {\n",
       "        text-align: left;\n",
       "    }\n",
       "\n",
       "    .dataframe tbody tr th {\n",
       "        vertical-align: top;\n",
       "    }\n",
       "</style>\n",
       "<table border=\"1\" class=\"dataframe\">\n",
       "  <thead>\n",
       "    <tr style=\"text-align: right;\">\n",
       "      <th></th>\n",
       "      <th></th>\n",
       "      <th>Nombre</th>\n",
       "      <th>E</th>\n",
       "      <th>NEU</th>\n",
       "      <th>LIN</th>\n",
       "      <th>RNL</th>\n",
       "      <th>DX1</th>\n",
       "      <th>DX2</th>\n",
       "      <th>DX3</th>\n",
       "      <th>DX4</th>\n",
       "    </tr>\n",
       "    <tr>\n",
       "      <th>G</th>\n",
       "      <th>ME</th>\n",
       "      <th></th>\n",
       "      <th></th>\n",
       "      <th></th>\n",
       "      <th></th>\n",
       "      <th></th>\n",
       "      <th></th>\n",
       "      <th></th>\n",
       "      <th></th>\n",
       "      <th></th>\n",
       "    </tr>\n",
       "  </thead>\n",
       "  <tbody>\n",
       "    <tr>\n",
       "      <th rowspan=\"2\" valign=\"top\">H</th>\n",
       "      <th>D</th>\n",
       "      <td>16</td>\n",
       "      <td>16</td>\n",
       "      <td>16</td>\n",
       "      <td>16</td>\n",
       "      <td>16</td>\n",
       "      <td>16</td>\n",
       "      <td>11</td>\n",
       "      <td>3</td>\n",
       "      <td>0</td>\n",
       "    </tr>\n",
       "    <tr>\n",
       "      <th>M</th>\n",
       "      <td>63</td>\n",
       "      <td>63</td>\n",
       "      <td>63</td>\n",
       "      <td>63</td>\n",
       "      <td>63</td>\n",
       "      <td>63</td>\n",
       "      <td>20</td>\n",
       "      <td>8</td>\n",
       "      <td>0</td>\n",
       "    </tr>\n",
       "    <tr>\n",
       "      <th rowspan=\"2\" valign=\"top\">M</th>\n",
       "      <th>D</th>\n",
       "      <td>19</td>\n",
       "      <td>19</td>\n",
       "      <td>19</td>\n",
       "      <td>19</td>\n",
       "      <td>19</td>\n",
       "      <td>19</td>\n",
       "      <td>18</td>\n",
       "      <td>7</td>\n",
       "      <td>1</td>\n",
       "    </tr>\n",
       "    <tr>\n",
       "      <th>M</th>\n",
       "      <td>61</td>\n",
       "      <td>61</td>\n",
       "      <td>61</td>\n",
       "      <td>61</td>\n",
       "      <td>61</td>\n",
       "      <td>61</td>\n",
       "      <td>26</td>\n",
       "      <td>6</td>\n",
       "      <td>0</td>\n",
       "    </tr>\n",
       "  </tbody>\n",
       "</table>\n",
       "</div>"
      ],
      "text/plain": [
       "      Nombre   E  NEU  LIN  RNL  DX1  DX2  DX3  DX4\n",
       "G ME                                               \n",
       "H D       16  16   16   16   16   16   11    3    0\n",
       "  M       63  63   63   63   63   63   20    8    0\n",
       "M D       19  19   19   19   19   19   18    7    1\n",
       "  M       61  61   61   61   61   61   26    6    0"
      ]
     },
     "execution_count": 527,
     "metadata": {},
     "output_type": "execute_result"
    }
   ],
   "source": [
    "df.groupby(['G','ME']).count()"
   ]
  },
  {
   "cell_type": "code",
   "execution_count": 528,
   "metadata": {},
   "outputs": [
    {
     "data": {
      "text/html": [
       "<div>\n",
       "<style>\n",
       "    .dataframe thead tr:only-child th {\n",
       "        text-align: right;\n",
       "    }\n",
       "\n",
       "    .dataframe thead th {\n",
       "        text-align: left;\n",
       "    }\n",
       "\n",
       "    .dataframe tbody tr th {\n",
       "        vertical-align: top;\n",
       "    }\n",
       "</style>\n",
       "<table border=\"1\" class=\"dataframe\">\n",
       "  <thead>\n",
       "    <tr style=\"text-align: right;\">\n",
       "      <th></th>\n",
       "      <th>G</th>\n",
       "      <th>ME</th>\n",
       "    </tr>\n",
       "    <tr>\n",
       "      <th>DX1</th>\n",
       "      <th></th>\n",
       "      <th></th>\n",
       "    </tr>\n",
       "  </thead>\n",
       "  <tbody>\n",
       "    <tr>\n",
       "      <th>IAM</th>\n",
       "      <td>31</td>\n",
       "      <td>31</td>\n",
       "    </tr>\n",
       "    <tr>\n",
       "      <th>CHS</th>\n",
       "      <td>24</td>\n",
       "      <td>24</td>\n",
       "    </tr>\n",
       "    <tr>\n",
       "      <th>POAR</th>\n",
       "      <td>20</td>\n",
       "      <td>20</td>\n",
       "    </tr>\n",
       "    <tr>\n",
       "      <th>CAD</th>\n",
       "      <td>13</td>\n",
       "      <td>13</td>\n",
       "    </tr>\n",
       "    <tr>\n",
       "      <th>EHHNC</th>\n",
       "      <td>12</td>\n",
       "      <td>12</td>\n",
       "    </tr>\n",
       "  </tbody>\n",
       "</table>\n",
       "</div>"
      ],
      "text/plain": [
       "        G  ME\n",
       "DX1          \n",
       "IAM    31  31\n",
       "CHS    24  24\n",
       "POAR   20  20\n",
       "CAD    13  13\n",
       "EHHNC  12  12"
      ]
     },
     "execution_count": 528,
     "metadata": {},
     "output_type": "execute_result"
    }
   ],
   "source": [
    "df.groupby(['DX1']).count()[['G','ME']].sort_values('G',ascending=False).head()"
   ]
  },
  {
   "cell_type": "code",
   "execution_count": 529,
   "metadata": {},
   "outputs": [
    {
     "data": {
      "text/html": [
       "<div>\n",
       "<style>\n",
       "    .dataframe thead tr:only-child th {\n",
       "        text-align: right;\n",
       "    }\n",
       "\n",
       "    .dataframe thead th {\n",
       "        text-align: left;\n",
       "    }\n",
       "\n",
       "    .dataframe tbody tr th {\n",
       "        vertical-align: top;\n",
       "    }\n",
       "</style>\n",
       "<table border=\"1\" class=\"dataframe\">\n",
       "  <thead>\n",
       "    <tr style=\"text-align: right;\">\n",
       "      <th></th>\n",
       "      <th>G</th>\n",
       "      <th>ME</th>\n",
       "    </tr>\n",
       "    <tr>\n",
       "      <th>DX2</th>\n",
       "      <th></th>\n",
       "      <th></th>\n",
       "    </tr>\n",
       "  </thead>\n",
       "  <tbody>\n",
       "    <tr>\n",
       "      <th>LAPE</th>\n",
       "      <td>9</td>\n",
       "      <td>9</td>\n",
       "    </tr>\n",
       "    <tr>\n",
       "      <th>POAR</th>\n",
       "      <td>8</td>\n",
       "      <td>8</td>\n",
       "    </tr>\n",
       "    <tr>\n",
       "      <th>UROSEP</th>\n",
       "      <td>6</td>\n",
       "      <td>6</td>\n",
       "    </tr>\n",
       "    <tr>\n",
       "      <th>NEUMO</th>\n",
       "      <td>4</td>\n",
       "      <td>4</td>\n",
       "    </tr>\n",
       "    <tr>\n",
       "      <th>SD</th>\n",
       "      <td>3</td>\n",
       "      <td>3</td>\n",
       "    </tr>\n",
       "  </tbody>\n",
       "</table>\n",
       "</div>"
      ],
      "text/plain": [
       "        G  ME\n",
       "DX2          \n",
       "LAPE    9   9\n",
       "POAR    8   8\n",
       "UROSEP  6   6\n",
       "NEUMO   4   4\n",
       "SD      3   3"
      ]
     },
     "execution_count": 529,
     "metadata": {},
     "output_type": "execute_result"
    }
   ],
   "source": [
    "df.groupby(['DX2']).count()[['G','ME']].sort_values('G',ascending=False).head()"
   ]
  },
  {
   "cell_type": "code",
   "execution_count": 530,
   "metadata": {},
   "outputs": [
    {
     "data": {
      "text/html": [
       "<div>\n",
       "<style>\n",
       "    .dataframe thead tr:only-child th {\n",
       "        text-align: right;\n",
       "    }\n",
       "\n",
       "    .dataframe thead th {\n",
       "        text-align: left;\n",
       "    }\n",
       "\n",
       "    .dataframe tbody tr th {\n",
       "        vertical-align: top;\n",
       "    }\n",
       "</style>\n",
       "<table border=\"1\" class=\"dataframe\">\n",
       "  <thead>\n",
       "    <tr style=\"text-align: right;\">\n",
       "      <th></th>\n",
       "      <th>G</th>\n",
       "      <th>ME</th>\n",
       "    </tr>\n",
       "    <tr>\n",
       "      <th>DX3</th>\n",
       "      <th></th>\n",
       "      <th></th>\n",
       "    </tr>\n",
       "  </thead>\n",
       "  <tbody>\n",
       "    <tr>\n",
       "      <th>LAPE</th>\n",
       "      <td>10</td>\n",
       "      <td>10</td>\n",
       "    </tr>\n",
       "    <tr>\n",
       "      <th>IVU</th>\n",
       "      <td>2</td>\n",
       "      <td>2</td>\n",
       "    </tr>\n",
       "    <tr>\n",
       "      <th>APEN</th>\n",
       "      <td>1</td>\n",
       "      <td>1</td>\n",
       "    </tr>\n",
       "    <tr>\n",
       "      <th>CCT</th>\n",
       "      <td>1</td>\n",
       "      <td>1</td>\n",
       "    </tr>\n",
       "    <tr>\n",
       "      <th>EHHNC</th>\n",
       "      <td>1</td>\n",
       "      <td>1</td>\n",
       "    </tr>\n",
       "  </tbody>\n",
       "</table>\n",
       "</div>"
      ],
      "text/plain": [
       "        G  ME\n",
       "DX3          \n",
       "LAPE   10  10\n",
       "IVU     2   2\n",
       "APEN    1   1\n",
       "CCT     1   1\n",
       "EHHNC   1   1"
      ]
     },
     "execution_count": 530,
     "metadata": {},
     "output_type": "execute_result"
    }
   ],
   "source": [
    "df.groupby(['DX3']).count()[['G','ME']].sort_values('G',ascending=False).head()"
   ]
  },
  {
   "cell_type": "code",
   "execution_count": 531,
   "metadata": {},
   "outputs": [
    {
     "data": {
      "text/html": [
       "<div>\n",
       "<style>\n",
       "    .dataframe thead tr:only-child th {\n",
       "        text-align: right;\n",
       "    }\n",
       "\n",
       "    .dataframe thead th {\n",
       "        text-align: left;\n",
       "    }\n",
       "\n",
       "    .dataframe tbody tr th {\n",
       "        vertical-align: top;\n",
       "    }\n",
       "</style>\n",
       "<table border=\"1\" class=\"dataframe\">\n",
       "  <thead>\n",
       "    <tr style=\"text-align: right;\">\n",
       "      <th></th>\n",
       "      <th>G</th>\n",
       "      <th>ME</th>\n",
       "    </tr>\n",
       "    <tr>\n",
       "      <th>DX4</th>\n",
       "      <th></th>\n",
       "      <th></th>\n",
       "    </tr>\n",
       "  </thead>\n",
       "  <tbody>\n",
       "    <tr>\n",
       "      <th>CCT</th>\n",
       "      <td>1</td>\n",
       "      <td>1</td>\n",
       "    </tr>\n",
       "  </tbody>\n",
       "</table>\n",
       "</div>"
      ],
      "text/plain": [
       "     G  ME\n",
       "DX4       \n",
       "CCT  1   1"
      ]
     },
     "execution_count": 531,
     "metadata": {},
     "output_type": "execute_result"
    }
   ],
   "source": [
    "df.groupby(['DX4']).count()[['G','ME']].sort_values('G',ascending=False).head()"
   ]
  },
  {
   "cell_type": "markdown",
   "metadata": {},
   "source": [
    "Convertimos tanto el género como el motivo de egreso a valores numéricos\n",
    "- G  : {0: 'Mujer',1: 'Hombre'}\n",
    "- ME : {0: 'Mejoría',1: 'Defunción'}"
   ]
  },
  {
   "cell_type": "code",
   "execution_count": 532,
   "metadata": {
    "collapsed": true
   },
   "outputs": [],
   "source": [
    "df.loc[df.G=='M','G']=0\n",
    "df.loc[df.G=='H','G']=1\n",
    "df.EDAD=df.E.astype(int)\n",
    "df=df.fillna('')\n",
    "df.loc[df.ME=='M','ME']=0\n",
    "df.loc[df.ME=='D','ME']=1\n"
   ]
  },
  {
   "cell_type": "code",
   "execution_count": 533,
   "metadata": {
    "collapsed": true
   },
   "outputs": [],
   "source": [
    "df['LEU'] = df.NEU + df.LIN"
   ]
  },
  {
   "cell_type": "code",
   "execution_count": 534,
   "metadata": {},
   "outputs": [
    {
     "data": {
      "image/png": "[encoded data removed]",
      "text/plain": [
       "<matplotlib.figure.Figure at 0x7f4848d2f630>"
      ]
     },
     "metadata": {},
     "output_type": "display_data"
    },
    {
     "data": {
      "image/png": "[encoded data removed]",
      "text/plain": [
       "<matplotlib.figure.Figure at 0x7f4848c640b8>"
      ]
     },
     "metadata": {},
     "output_type": "display_data"
    },
    {
     "data": {
      "image/png": "[encoded data removed]",
      "text/plain": [
       "<matplotlib.figure.Figure at 0x7f4848b7d7f0>"
      ]
     },
     "metadata": {},
     "output_type": "display_data"
    },
    {
     "data": {
      "image/png": "[encoded data removed]",
      "text/plain": [
       "<matplotlib.figure.Figure at 0x7f4848b7df98>"
      ]
     },
     "metadata": {},
     "output_type": "display_data"
    },
    {
     "data": {
      "image/png": "[encoded data removed]",
      "text/plain": [
       "<matplotlib.figure.Figure at 0x7f4848af9908>"
      ]
     },
     "metadata": {},
     "output_type": "display_data"
    },
    {
     "data": {
      "image/png": "[encoded data removed]",
      "text/plain": [
       "<matplotlib.figure.Figure at 0x7f4848b95630>"
      ]
     },
     "metadata": {},
     "output_type": "display_data"
    }
   ],
   "source": [
    "variables=['G','E','LEU','NEU','LIN','RNL']\n",
    "for v in variables:\n",
    "    df.plot.scatter(x=v,y='ME')"
   ]
  },
  {
   "cell_type": "code",
   "execution_count": 535,
   "metadata": {},
   "outputs": [
    {
     "data": {
      "text/plain": [
       "<matplotlib.axes._subplots.AxesSubplot at 0x7f4848a287f0>"
      ]
     },
     "execution_count": 535,
     "metadata": {},
     "output_type": "execute_result"
    },
    {
     "data": {
      "image/png": "[encoded data removed]",
      "text/plain": [
       "<matplotlib.figure.Figure at 0x7f484938a7b8>"
      ]
     },
     "metadata": {},
     "output_type": "display_data"
    }
   ],
   "source": [
    "sns.violinplot(x='ME', y=\"G\", data=df)"
   ]
  },
  {
   "cell_type": "code",
   "execution_count": 536,
   "metadata": {},
   "outputs": [
    {
     "data": {
      "text/plain": [
       "<matplotlib.axes._subplots.AxesSubplot at 0x7f48487ea208>"
      ]
     },
     "execution_count": 536,
     "metadata": {},
     "output_type": "execute_result"
    },
    {
     "data": {
      "image/png": "[encoded data removed]",
      "text/plain": [
       "<matplotlib.figure.Figure at 0x7f48490becc0>"
      ]
     },
     "metadata": {},
     "output_type": "display_data"
    }
   ],
   "source": [
    "sns.violinplot(x='ME', y=\"E\", data=df)"
   ]
  },
  {
   "cell_type": "code",
   "execution_count": 537,
   "metadata": {},
   "outputs": [
    {
     "data": {
      "text/plain": [
       "<matplotlib.axes._subplots.AxesSubplot at 0x7f48488b7be0>"
      ]
     },
     "execution_count": 537,
     "metadata": {},
     "output_type": "execute_result"
    },
    {
     "data": {
      "image/png": "[encoded data removed]",
      "text/plain": [
       "<matplotlib.figure.Figure at 0x7f484887d470>"
      ]
     },
     "metadata": {},
     "output_type": "display_data"
    }
   ],
   "source": [
    "sns.violinplot(x='ME', y=\"LEU\", data=df)"
   ]
  },
  {
   "cell_type": "code",
   "execution_count": 538,
   "metadata": {},
   "outputs": [
    {
     "data": {
      "text/plain": [
       "<matplotlib.axes._subplots.AxesSubplot at 0x7f4848726e10>"
      ]
     },
     "execution_count": 538,
     "metadata": {},
     "output_type": "execute_result"
    },
    {
     "data": {
      "image/png": "[encoded data removed]",
      "text/plain": [
       "<matplotlib.figure.Figure at 0x7f484869db38>"
      ]
     },
     "metadata": {},
     "output_type": "display_data"
    }
   ],
   "source": [
    "sns.violinplot(x='ME', y=\"LIN\", data=df)"
   ]
  },
  {
   "cell_type": "code",
   "execution_count": 539,
   "metadata": {},
   "outputs": [
    {
     "data": {
      "text/plain": [
       "<matplotlib.axes._subplots.AxesSubplot at 0x7f48486c90b8>"
      ]
     },
     "execution_count": 539,
     "metadata": {},
     "output_type": "execute_result"
    },
    {
     "data": {
      "image/png": "[encoded data removed]",
      "text/plain": [
       "<matplotlib.figure.Figure at 0x7f48486fe358>"
      ]
     },
     "metadata": {},
     "output_type": "display_data"
    }
   ],
   "source": [
    "sns.violinplot(x='ME', y=\"NEU\", data=df)"
   ]
  },
  {
   "cell_type": "code",
   "execution_count": 540,
   "metadata": {},
   "outputs": [
    {
     "data": {
      "text/plain": [
       "<matplotlib.axes._subplots.AxesSubplot at 0x7f48485ef048>"
      ]
     },
     "execution_count": 540,
     "metadata": {},
     "output_type": "execute_result"
    },
    {
     "data": {
      "image/png": "[encoded data removed]",
      "text/plain": [
       "<matplotlib.figure.Figure at 0x7f4848648860>"
      ]
     },
     "metadata": {},
     "output_type": "display_data"
    }
   ],
   "source": [
    "sns.violinplot(x='ME', y=\"RNL\", data=df)"
   ]
  },
  {
   "cell_type": "markdown",
   "metadata": {},
   "source": [
    "### Calculamos los promedios por caracteristica"
   ]
  },
  {
   "cell_type": "code",
   "execution_count": 541,
   "metadata": {},
   "outputs": [
    {
     "data": {
      "text/html": [
       "<div>\n",
       "<style>\n",
       "    .dataframe thead tr:only-child th {\n",
       "        text-align: right;\n",
       "    }\n",
       "\n",
       "    .dataframe thead th {\n",
       "        text-align: left;\n",
       "    }\n",
       "\n",
       "    .dataframe tbody tr th {\n",
       "        vertical-align: top;\n",
       "    }\n",
       "</style>\n",
       "<table border=\"1\" class=\"dataframe\">\n",
       "  <thead>\n",
       "    <tr style=\"text-align: right;\">\n",
       "      <th></th>\n",
       "      <th>G</th>\n",
       "      <th>E</th>\n",
       "      <th>NEU</th>\n",
       "      <th>LIN</th>\n",
       "      <th>RNL</th>\n",
       "      <th>LEU</th>\n",
       "    </tr>\n",
       "    <tr>\n",
       "      <th>ME</th>\n",
       "      <th></th>\n",
       "      <th></th>\n",
       "      <th></th>\n",
       "      <th></th>\n",
       "      <th></th>\n",
       "      <th></th>\n",
       "    </tr>\n",
       "  </thead>\n",
       "  <tbody>\n",
       "    <tr>\n",
       "      <th>0</th>\n",
       "      <td>0.508065</td>\n",
       "      <td>61.701613</td>\n",
       "      <td>9.605403</td>\n",
       "      <td>1.360000</td>\n",
       "      <td>9.700242</td>\n",
       "      <td>10.965403</td>\n",
       "    </tr>\n",
       "    <tr>\n",
       "      <th>1</th>\n",
       "      <td>0.457143</td>\n",
       "      <td>67.828571</td>\n",
       "      <td>13.397143</td>\n",
       "      <td>1.291143</td>\n",
       "      <td>15.323143</td>\n",
       "      <td>14.688286</td>\n",
       "    </tr>\n",
       "  </tbody>\n",
       "</table>\n",
       "</div>"
      ],
      "text/plain": [
       "           G          E        NEU       LIN        RNL        LEU\n",
       "ME                                                                \n",
       "0   0.508065  61.701613   9.605403  1.360000   9.700242  10.965403\n",
       "1   0.457143  67.828571  13.397143  1.291143  15.323143  14.688286"
      ]
     },
     "execution_count": 541,
     "metadata": {},
     "output_type": "execute_result"
    }
   ],
   "source": [
    "df.groupby('ME').mean()"
   ]
  },
  {
   "cell_type": "code",
   "execution_count": 542,
   "metadata": {
    "collapsed": true
   },
   "outputs": [],
   "source": [
    "### Calculamos las desviaciones estandard\n"
   ]
  },
  {
   "cell_type": "code",
   "execution_count": 543,
   "metadata": {},
   "outputs": [
    {
     "data": {
      "text/html": [
       "<div>\n",
       "<style>\n",
       "    .dataframe thead tr:only-child th {\n",
       "        text-align: right;\n",
       "    }\n",
       "\n",
       "    .dataframe thead th {\n",
       "        text-align: left;\n",
       "    }\n",
       "\n",
       "    .dataframe tbody tr th {\n",
       "        vertical-align: top;\n",
       "    }\n",
       "</style>\n",
       "<table border=\"1\" class=\"dataframe\">\n",
       "  <thead>\n",
       "    <tr style=\"text-align: right;\">\n",
       "      <th></th>\n",
       "      <th>G</th>\n",
       "      <th>E</th>\n",
       "      <th>NEU</th>\n",
       "      <th>LIN</th>\n",
       "      <th>RNL</th>\n",
       "      <th>LEU</th>\n",
       "    </tr>\n",
       "    <tr>\n",
       "      <th>ME</th>\n",
       "      <th></th>\n",
       "      <th></th>\n",
       "      <th></th>\n",
       "      <th></th>\n",
       "      <th></th>\n",
       "      <th></th>\n",
       "    </tr>\n",
       "  </thead>\n",
       "  <tbody>\n",
       "    <tr>\n",
       "      <th>0</th>\n",
       "      <td>0.501963</td>\n",
       "      <td>16.579437</td>\n",
       "      <td>4.632684</td>\n",
       "      <td>0.848170</td>\n",
       "      <td>7.622680</td>\n",
       "      <td>4.734367</td>\n",
       "    </tr>\n",
       "    <tr>\n",
       "      <th>1</th>\n",
       "      <td>0.505433</td>\n",
       "      <td>14.425235</td>\n",
       "      <td>15.461990</td>\n",
       "      <td>1.848703</td>\n",
       "      <td>14.411154</td>\n",
       "      <td>16.309307</td>\n",
       "    </tr>\n",
       "  </tbody>\n",
       "</table>\n",
       "</div>"
      ],
      "text/plain": [
       "           G          E        NEU       LIN        RNL        LEU\n",
       "ME                                                                \n",
       "0   0.501963  16.579437   4.632684  0.848170   7.622680   4.734367\n",
       "1   0.505433  14.425235  15.461990  1.848703  14.411154  16.309307"
      ]
     },
     "execution_count": 543,
     "metadata": {},
     "output_type": "execute_result"
    }
   ],
   "source": [
    "df.groupby('ME').std()"
   ]
  },
  {
   "cell_type": "code",
   "execution_count": 544,
   "metadata": {},
   "outputs": [
    {
     "data": {
      "text/plain": [
       "G      0.050922\n",
       "E      6.126959\n",
       "NEU    3.791740\n",
       "LIN    0.068857\n",
       "RNL    5.622901\n",
       "LEU    3.722882\n",
       "dtype: float64"
      ]
     },
     "execution_count": 544,
     "metadata": {},
     "output_type": "execute_result"
    }
   ],
   "source": [
    "u = df.groupby('ME').mean().apply(lambda r: abs(r[1]-r[0]))\n",
    "u"
   ]
  },
  {
   "cell_type": "code",
   "execution_count": null,
   "metadata": {
    "collapsed": true
   },
   "outputs": [],
   "source": []
  },
  {
   "cell_type": "code",
   "execution_count": 545,
   "metadata": {},
   "outputs": [
    {
     "data": {
      "text/plain": [
       "E      8.162110\n",
       "G      0.009331\n",
       "LEU    7.780574\n",
       "LIN    0.103450\n",
       "NEU    7.003740\n",
       "RNL    6.402344\n",
       "dtype: float64"
      ]
     },
     "execution_count": 545,
     "metadata": {},
     "output_type": "execute_result"
    }
   ],
   "source": [
    "v = ((df.groupby('ME').std()**2)/(df.groupby('ME')[['E','G','LEU','LIN','RNL','NEU']].count())).sum()\n",
    "v"
   ]
  },
  {
   "cell_type": "code",
   "execution_count": 546,
   "metadata": {},
   "outputs": [
    {
     "data": {
      "text/html": [
       "<div>\n",
       "<style>\n",
       "    .dataframe thead tr:only-child th {\n",
       "        text-align: right;\n",
       "    }\n",
       "\n",
       "    .dataframe thead th {\n",
       "        text-align: left;\n",
       "    }\n",
       "\n",
       "    .dataframe tbody tr th {\n",
       "        vertical-align: top;\n",
       "    }\n",
       "</style>\n",
       "<table border=\"1\" class=\"dataframe\">\n",
       "  <thead>\n",
       "    <tr style=\"text-align: right;\">\n",
       "      <th></th>\n",
       "      <th>index</th>\n",
       "      <th>t_prueba</th>\n",
       "      <th>Hipotesis</th>\n",
       "    </tr>\n",
       "  </thead>\n",
       "  <tbody>\n",
       "    <tr>\n",
       "      <th>0</th>\n",
       "      <td>E</td>\n",
       "      <td>2.144587</td>\n",
       "      <td>True</td>\n",
       "    </tr>\n",
       "    <tr>\n",
       "      <th>1</th>\n",
       "      <td>G</td>\n",
       "      <td>0.527158</td>\n",
       "      <td>False</td>\n",
       "    </tr>\n",
       "    <tr>\n",
       "      <th>2</th>\n",
       "      <td>LEU</td>\n",
       "      <td>1.334669</td>\n",
       "      <td>False</td>\n",
       "    </tr>\n",
       "    <tr>\n",
       "      <th>3</th>\n",
       "      <td>LIN</td>\n",
       "      <td>0.214084</td>\n",
       "      <td>False</td>\n",
       "    </tr>\n",
       "    <tr>\n",
       "      <th>4</th>\n",
       "      <td>NEU</td>\n",
       "      <td>1.432760</td>\n",
       "      <td>False</td>\n",
       "    </tr>\n",
       "    <tr>\n",
       "      <th>5</th>\n",
       "      <td>RNL</td>\n",
       "      <td>2.222240</td>\n",
       "      <td>True</td>\n",
       "    </tr>\n",
       "  </tbody>\n",
       "</table>\n",
       "</div>"
      ],
      "text/plain": [
       "  index  t_prueba  Hipotesis\n",
       "0     E  2.144587       True\n",
       "1     G  0.527158      False\n",
       "2   LEU  1.334669      False\n",
       "3   LIN  0.214084      False\n",
       "4   NEU  1.432760      False\n",
       "5   RNL  2.222240       True"
      ]
     },
     "execution_count": 546,
     "metadata": {},
     "output_type": "execute_result"
    }
   ],
   "source": [
    "u = u/np.sqrt(v)\n",
    "u = u.reset_index().rename(columns = {0: 't_prueba'})\n",
    "u['Hipotesis'] = u['t_prueba']>1.8946 \n",
    "u"
   ]
  },
  {
   "cell_type": "markdown",
   "metadata": {},
   "source": [
    "###\n",
    "\n",
    "- La edad y la Razón NL están relacionadas al motivo de egreso"
   ]
  },
  {
   "cell_type": "markdown",
   "metadata": {},
   "source": [
    "## Matriz de correlación"
   ]
  },
  {
   "cell_type": "code",
   "execution_count": 547,
   "metadata": {},
   "outputs": [
    {
     "data": {
      "text/plain": [
       "<matplotlib.axes._subplots.AxesSubplot at 0x7f4848983fd0>"
      ]
     },
     "execution_count": 547,
     "metadata": {},
     "output_type": "execute_result"
    },
    {
     "data": {
      "image/png": "[encoded data removed]",
      "text/plain": [
       "<matplotlib.figure.Figure at 0x7f4848a28ac8>"
      ]
     },
     "metadata": {},
     "output_type": "display_data"
    }
   ],
   "source": [
    "corr = df.corr()\n",
    "mask = np.zeros_like(corr, dtype=np.bool)\n",
    "mask[np.triu_indices_from(mask)] = True\n",
    "\n",
    "# Set up the matplotlib figure\n",
    "f, ax = plt.subplots(figsize=(11, 9))\n",
    "\n",
    "# Generate a custom diverging colormap\n",
    "cmap = sns.diverging_palette(220, 10, as_cmap=True)\n",
    "\n",
    "# Draw the heatmap with the mask and correct aspect ratio\n",
    "sns.heatmap(corr, mask=mask, cmap=cmap, vmax=.3, center=0,\n",
    "            square=True, linewidths=.5, cbar_kws={\"shrink\": .5})"
   ]
  },
  {
   "cell_type": "code",
   "execution_count": 548,
   "metadata": {},
   "outputs": [
    {
     "data": {
      "text/html": [
       "<div>\n",
       "<style>\n",
       "    .dataframe thead tr:only-child th {\n",
       "        text-align: right;\n",
       "    }\n",
       "\n",
       "    .dataframe thead th {\n",
       "        text-align: left;\n",
       "    }\n",
       "\n",
       "    .dataframe tbody tr th {\n",
       "        vertical-align: top;\n",
       "    }\n",
       "</style>\n",
       "<table border=\"1\" class=\"dataframe\">\n",
       "  <thead>\n",
       "    <tr style=\"text-align: right;\">\n",
       "      <th></th>\n",
       "      <th>G</th>\n",
       "      <th>E</th>\n",
       "      <th>NEU</th>\n",
       "      <th>LIN</th>\n",
       "      <th>RNL</th>\n",
       "      <th>LEU</th>\n",
       "    </tr>\n",
       "  </thead>\n",
       "  <tbody>\n",
       "    <tr>\n",
       "      <th>G</th>\n",
       "      <td>1.000000</td>\n",
       "      <td>0.203789</td>\n",
       "      <td>0.062525</td>\n",
       "      <td>-0.049680</td>\n",
       "      <td>0.092313</td>\n",
       "      <td>0.053412</td>\n",
       "    </tr>\n",
       "    <tr>\n",
       "      <th>E</th>\n",
       "      <td>0.203789</td>\n",
       "      <td>1.000000</td>\n",
       "      <td>0.037450</td>\n",
       "      <td>-0.156139</td>\n",
       "      <td>0.123225</td>\n",
       "      <td>0.015602</td>\n",
       "    </tr>\n",
       "    <tr>\n",
       "      <th>NEU</th>\n",
       "      <td>0.062525</td>\n",
       "      <td>0.037450</td>\n",
       "      <td>1.000000</td>\n",
       "      <td>0.269031</td>\n",
       "      <td>0.550354</td>\n",
       "      <td>0.992169</td>\n",
       "    </tr>\n",
       "    <tr>\n",
       "      <th>LIN</th>\n",
       "      <td>-0.049680</td>\n",
       "      <td>-0.156139</td>\n",
       "      <td>0.269031</td>\n",
       "      <td>1.000000</td>\n",
       "      <td>-0.386448</td>\n",
       "      <td>0.387219</td>\n",
       "    </tr>\n",
       "    <tr>\n",
       "      <th>RNL</th>\n",
       "      <td>0.092313</td>\n",
       "      <td>0.123225</td>\n",
       "      <td>0.550354</td>\n",
       "      <td>-0.386448</td>\n",
       "      <td>1.000000</td>\n",
       "      <td>0.476729</td>\n",
       "    </tr>\n",
       "    <tr>\n",
       "      <th>LEU</th>\n",
       "      <td>0.053412</td>\n",
       "      <td>0.015602</td>\n",
       "      <td>0.992169</td>\n",
       "      <td>0.387219</td>\n",
       "      <td>0.476729</td>\n",
       "      <td>1.000000</td>\n",
       "    </tr>\n",
       "  </tbody>\n",
       "</table>\n",
       "</div>"
      ],
      "text/plain": [
       "            G         E       NEU       LIN       RNL       LEU\n",
       "G    1.000000  0.203789  0.062525 -0.049680  0.092313  0.053412\n",
       "E    0.203789  1.000000  0.037450 -0.156139  0.123225  0.015602\n",
       "NEU  0.062525  0.037450  1.000000  0.269031  0.550354  0.992169\n",
       "LIN -0.049680 -0.156139  0.269031  1.000000 -0.386448  0.387219\n",
       "RNL  0.092313  0.123225  0.550354 -0.386448  1.000000  0.476729\n",
       "LEU  0.053412  0.015602  0.992169  0.387219  0.476729  1.000000"
      ]
     },
     "execution_count": 548,
     "metadata": {},
     "output_type": "execute_result"
    }
   ],
   "source": [
    "corr"
   ]
  },
  {
   "cell_type": "code",
   "execution_count": null,
   "metadata": {
    "collapsed": true
   },
   "outputs": [],
   "source": []
  },
  {
   "cell_type": "code",
   "execution_count": null,
   "metadata": {
    "collapsed": true
   },
   "outputs": [],
   "source": []
  },
  {
   "cell_type": "markdown",
   "metadata": {},
   "source": [
    "## Más análisis estadísticos\n"
   ]
  },
  {
   "cell_type": "code",
   "execution_count": 549,
   "metadata": {},
   "outputs": [
    {
     "data": {
      "text/html": [
       "<div>\n",
       "<style>\n",
       "    .dataframe thead tr:only-child th {\n",
       "        text-align: right;\n",
       "    }\n",
       "\n",
       "    .dataframe thead th {\n",
       "        text-align: left;\n",
       "    }\n",
       "\n",
       "    .dataframe tbody tr th {\n",
       "        vertical-align: top;\n",
       "    }\n",
       "</style>\n",
       "<table border=\"1\" class=\"dataframe\">\n",
       "  <thead>\n",
       "    <tr>\n",
       "      <th></th>\n",
       "      <th></th>\n",
       "      <th colspan=\"3\" halign=\"left\">E</th>\n",
       "      <th colspan=\"3\" halign=\"left\">RNL</th>\n",
       "    </tr>\n",
       "    <tr>\n",
       "      <th></th>\n",
       "      <th></th>\n",
       "      <th>mean</th>\n",
       "      <th>std</th>\n",
       "      <th>count</th>\n",
       "      <th>mean</th>\n",
       "      <th>std</th>\n",
       "      <th>count</th>\n",
       "    </tr>\n",
       "    <tr>\n",
       "      <th>DX1</th>\n",
       "      <th>ME</th>\n",
       "      <th></th>\n",
       "      <th></th>\n",
       "      <th></th>\n",
       "      <th></th>\n",
       "      <th></th>\n",
       "      <th></th>\n",
       "    </tr>\n",
       "  </thead>\n",
       "  <tbody>\n",
       "    <tr>\n",
       "      <th>ANGOR IN</th>\n",
       "      <th>0</th>\n",
       "      <td>70.000000</td>\n",
       "      <td>14.142136</td>\n",
       "      <td>2</td>\n",
       "      <td>2.190000</td>\n",
       "      <td>0.056569</td>\n",
       "      <td>2</td>\n",
       "    </tr>\n",
       "    <tr>\n",
       "      <th>BAVC</th>\n",
       "      <th>0</th>\n",
       "      <td>58.000000</td>\n",
       "      <td>NaN</td>\n",
       "      <td>1</td>\n",
       "      <td>3.720000</td>\n",
       "      <td>NaN</td>\n",
       "      <td>1</td>\n",
       "    </tr>\n",
       "    <tr>\n",
       "      <th>CAD</th>\n",
       "      <th>0</th>\n",
       "      <td>54.230769</td>\n",
       "      <td>12.397270</td>\n",
       "      <td>13</td>\n",
       "      <td>8.051538</td>\n",
       "      <td>5.059820</td>\n",
       "      <td>13</td>\n",
       "    </tr>\n",
       "    <tr>\n",
       "      <th rowspan=\"2\" valign=\"top\">CHA</th>\n",
       "      <th>0</th>\n",
       "      <td>54.000000</td>\n",
       "      <td>NaN</td>\n",
       "      <td>1</td>\n",
       "      <td>5.640000</td>\n",
       "      <td>NaN</td>\n",
       "      <td>1</td>\n",
       "    </tr>\n",
       "    <tr>\n",
       "      <th>1</th>\n",
       "      <td>75.000000</td>\n",
       "      <td>NaN</td>\n",
       "      <td>1</td>\n",
       "      <td>23.830000</td>\n",
       "      <td>NaN</td>\n",
       "      <td>1</td>\n",
       "    </tr>\n",
       "    <tr>\n",
       "      <th rowspan=\"2\" valign=\"top\">CHC</th>\n",
       "      <th>0</th>\n",
       "      <td>76.000000</td>\n",
       "      <td>NaN</td>\n",
       "      <td>1</td>\n",
       "      <td>4.270000</td>\n",
       "      <td>NaN</td>\n",
       "      <td>1</td>\n",
       "    </tr>\n",
       "    <tr>\n",
       "      <th>1</th>\n",
       "      <td>73.333333</td>\n",
       "      <td>7.767453</td>\n",
       "      <td>3</td>\n",
       "      <td>8.053333</td>\n",
       "      <td>6.159646</td>\n",
       "      <td>3</td>\n",
       "    </tr>\n",
       "    <tr>\n",
       "      <th rowspan=\"2\" valign=\"top\">CHH</th>\n",
       "      <th>0</th>\n",
       "      <td>54.000000</td>\n",
       "      <td>17.349352</td>\n",
       "      <td>3</td>\n",
       "      <td>13.006667</td>\n",
       "      <td>3.333802</td>\n",
       "      <td>3</td>\n",
       "    </tr>\n",
       "    <tr>\n",
       "      <th>1</th>\n",
       "      <td>62.500000</td>\n",
       "      <td>20.047444</td>\n",
       "      <td>6</td>\n",
       "      <td>14.321667</td>\n",
       "      <td>11.815392</td>\n",
       "      <td>6</td>\n",
       "    </tr>\n",
       "    <tr>\n",
       "      <th rowspan=\"2\" valign=\"top\">CHS</th>\n",
       "      <th>0</th>\n",
       "      <td>62.375000</td>\n",
       "      <td>13.521808</td>\n",
       "      <td>8</td>\n",
       "      <td>8.378750</td>\n",
       "      <td>6.833028</td>\n",
       "      <td>8</td>\n",
       "    </tr>\n",
       "    <tr>\n",
       "      <th>1</th>\n",
       "      <td>67.812500</td>\n",
       "      <td>11.737227</td>\n",
       "      <td>16</td>\n",
       "      <td>13.740000</td>\n",
       "      <td>13.244267</td>\n",
       "      <td>16</td>\n",
       "    </tr>\n",
       "    <tr>\n",
       "      <th>CHS</th>\n",
       "      <th>1</th>\n",
       "      <td>47.000000</td>\n",
       "      <td>4.242641</td>\n",
       "      <td>2</td>\n",
       "      <td>7.645000</td>\n",
       "      <td>4.900250</td>\n",
       "      <td>2</td>\n",
       "    </tr>\n",
       "    <tr>\n",
       "      <th>CPS</th>\n",
       "      <th>0</th>\n",
       "      <td>55.000000</td>\n",
       "      <td>NaN</td>\n",
       "      <td>1</td>\n",
       "      <td>45.630000</td>\n",
       "      <td>NaN</td>\n",
       "      <td>1</td>\n",
       "    </tr>\n",
       "    <tr>\n",
       "      <th>CRI HIP</th>\n",
       "      <th>0</th>\n",
       "      <td>80.000000</td>\n",
       "      <td>NaN</td>\n",
       "      <td>1</td>\n",
       "      <td>6.090000</td>\n",
       "      <td>NaN</td>\n",
       "      <td>1</td>\n",
       "    </tr>\n",
       "    <tr>\n",
       "      <th>CRIS HIP</th>\n",
       "      <th>0</th>\n",
       "      <td>30.000000</td>\n",
       "      <td>NaN</td>\n",
       "      <td>1</td>\n",
       "      <td>1.470000</td>\n",
       "      <td>NaN</td>\n",
       "      <td>1</td>\n",
       "    </tr>\n",
       "    <tr>\n",
       "      <th>DHE</th>\n",
       "      <th>0</th>\n",
       "      <td>45.000000</td>\n",
       "      <td>NaN</td>\n",
       "      <td>1</td>\n",
       "      <td>34.820000</td>\n",
       "      <td>NaN</td>\n",
       "      <td>1</td>\n",
       "    </tr>\n",
       "    <tr>\n",
       "      <th>EDADPU</th>\n",
       "      <th>0</th>\n",
       "      <td>68.000000</td>\n",
       "      <td>12.000000</td>\n",
       "      <td>3</td>\n",
       "      <td>9.243333</td>\n",
       "      <td>9.517628</td>\n",
       "      <td>3</td>\n",
       "    </tr>\n",
       "    <tr>\n",
       "      <th>EHHNC</th>\n",
       "      <th>0</th>\n",
       "      <td>62.583333</td>\n",
       "      <td>19.085732</td>\n",
       "      <td>12</td>\n",
       "      <td>9.716667</td>\n",
       "      <td>7.327860</td>\n",
       "      <td>12</td>\n",
       "    </tr>\n",
       "    <tr>\n",
       "      <th>EMER HI</th>\n",
       "      <th>0</th>\n",
       "      <td>47.000000</td>\n",
       "      <td>NaN</td>\n",
       "      <td>1</td>\n",
       "      <td>13.120000</td>\n",
       "      <td>NaN</td>\n",
       "      <td>1</td>\n",
       "    </tr>\n",
       "    <tr>\n",
       "      <th>ENF MAS</th>\n",
       "      <th>1</th>\n",
       "      <td>74.000000</td>\n",
       "      <td>NaN</td>\n",
       "      <td>1</td>\n",
       "      <td>22.950000</td>\n",
       "      <td>NaN</td>\n",
       "      <td>1</td>\n",
       "    </tr>\n",
       "    <tr>\n",
       "      <th>EVCH</th>\n",
       "      <th>0</th>\n",
       "      <td>53.500000</td>\n",
       "      <td>9.192388</td>\n",
       "      <td>2</td>\n",
       "      <td>4.690000</td>\n",
       "      <td>4.044651</td>\n",
       "      <td>2</td>\n",
       "    </tr>\n",
       "    <tr>\n",
       "      <th>EVCI</th>\n",
       "      <th>0</th>\n",
       "      <td>33.000000</td>\n",
       "      <td>NaN</td>\n",
       "      <td>1</td>\n",
       "      <td>4.620000</td>\n",
       "      <td>NaN</td>\n",
       "      <td>1</td>\n",
       "    </tr>\n",
       "    <tr>\n",
       "      <th>FOM</th>\n",
       "      <th>1</th>\n",
       "      <td>53.000000</td>\n",
       "      <td>NaN</td>\n",
       "      <td>1</td>\n",
       "      <td>65.430000</td>\n",
       "      <td>NaN</td>\n",
       "      <td>1</td>\n",
       "    </tr>\n",
       "    <tr>\n",
       "      <th>HELLP</th>\n",
       "      <th>0</th>\n",
       "      <td>37.000000</td>\n",
       "      <td>2.828427</td>\n",
       "      <td>2</td>\n",
       "      <td>14.045000</td>\n",
       "      <td>2.764788</td>\n",
       "      <td>2</td>\n",
       "    </tr>\n",
       "    <tr>\n",
       "      <th>HSA</th>\n",
       "      <th>1</th>\n",
       "      <td>56.000000</td>\n",
       "      <td>NaN</td>\n",
       "      <td>1</td>\n",
       "      <td>2.330000</td>\n",
       "      <td>NaN</td>\n",
       "      <td>1</td>\n",
       "    </tr>\n",
       "    <tr>\n",
       "      <th>IAM</th>\n",
       "      <th>0</th>\n",
       "      <td>66.774194</td>\n",
       "      <td>16.654748</td>\n",
       "      <td>31</td>\n",
       "      <td>6.767419</td>\n",
       "      <td>5.479543</td>\n",
       "      <td>31</td>\n",
       "    </tr>\n",
       "    <tr>\n",
       "      <th>INS HEP</th>\n",
       "      <th>0</th>\n",
       "      <td>57.000000</td>\n",
       "      <td>NaN</td>\n",
       "      <td>1</td>\n",
       "      <td>6.670000</td>\n",
       "      <td>NaN</td>\n",
       "      <td>1</td>\n",
       "    </tr>\n",
       "    <tr>\n",
       "      <th rowspan=\"2\" valign=\"top\">NEUMO</th>\n",
       "      <th>0</th>\n",
       "      <td>60.000000</td>\n",
       "      <td>29.715316</td>\n",
       "      <td>3</td>\n",
       "      <td>15.300000</td>\n",
       "      <td>5.496290</td>\n",
       "      <td>3</td>\n",
       "    </tr>\n",
       "    <tr>\n",
       "      <th>1</th>\n",
       "      <td>85.333333</td>\n",
       "      <td>4.041452</td>\n",
       "      <td>3</td>\n",
       "      <td>20.816667</td>\n",
       "      <td>14.272878</td>\n",
       "      <td>3</td>\n",
       "    </tr>\n",
       "    <tr>\n",
       "      <th>NEUNO</th>\n",
       "      <th>0</th>\n",
       "      <td>61.666667</td>\n",
       "      <td>5.859465</td>\n",
       "      <td>3</td>\n",
       "      <td>13.113333</td>\n",
       "      <td>8.070826</td>\n",
       "      <td>3</td>\n",
       "    </tr>\n",
       "    <tr>\n",
       "      <th>PAN</th>\n",
       "      <th>0</th>\n",
       "      <td>61.000000</td>\n",
       "      <td>4.242641</td>\n",
       "      <td>2</td>\n",
       "      <td>11.660000</td>\n",
       "      <td>4.596194</td>\n",
       "      <td>2</td>\n",
       "    </tr>\n",
       "    <tr>\n",
       "      <th rowspan=\"2\" valign=\"top\">POAR</th>\n",
       "      <th>0</th>\n",
       "      <td>68.578947</td>\n",
       "      <td>12.915606</td>\n",
       "      <td>19</td>\n",
       "      <td>14.006316</td>\n",
       "      <td>7.144782</td>\n",
       "      <td>19</td>\n",
       "    </tr>\n",
       "    <tr>\n",
       "      <th>1</th>\n",
       "      <td>86.000000</td>\n",
       "      <td>NaN</td>\n",
       "      <td>1</td>\n",
       "      <td>14.100000</td>\n",
       "      <td>NaN</td>\n",
       "      <td>1</td>\n",
       "    </tr>\n",
       "    <tr>\n",
       "      <th>PREE</th>\n",
       "      <th>0</th>\n",
       "      <td>27.000000</td>\n",
       "      <td>NaN</td>\n",
       "      <td>1</td>\n",
       "      <td>5.720000</td>\n",
       "      <td>NaN</td>\n",
       "      <td>1</td>\n",
       "    </tr>\n",
       "    <tr>\n",
       "      <th>PREE G</th>\n",
       "      <th>0</th>\n",
       "      <td>31.333333</td>\n",
       "      <td>3.785939</td>\n",
       "      <td>3</td>\n",
       "      <td>14.873333</td>\n",
       "      <td>9.929624</td>\n",
       "      <td>3</td>\n",
       "    </tr>\n",
       "    <tr>\n",
       "      <th>QUE ELE</th>\n",
       "      <th>0</th>\n",
       "      <td>56.000000</td>\n",
       "      <td>NaN</td>\n",
       "      <td>1</td>\n",
       "      <td>4.210000</td>\n",
       "      <td>NaN</td>\n",
       "      <td>1</td>\n",
       "    </tr>\n",
       "    <tr>\n",
       "      <th>SEPSIS</th>\n",
       "      <th>0</th>\n",
       "      <td>76.000000</td>\n",
       "      <td>NaN</td>\n",
       "      <td>1</td>\n",
       "      <td>10.140000</td>\n",
       "      <td>NaN</td>\n",
       "      <td>1</td>\n",
       "    </tr>\n",
       "    <tr>\n",
       "      <th>SXPR</th>\n",
       "      <th>0</th>\n",
       "      <td>62.000000</td>\n",
       "      <td>NaN</td>\n",
       "      <td>1</td>\n",
       "      <td>12.570000</td>\n",
       "      <td>NaN</td>\n",
       "      <td>1</td>\n",
       "    </tr>\n",
       "    <tr>\n",
       "      <th>TSV</th>\n",
       "      <th>0</th>\n",
       "      <td>74.750000</td>\n",
       "      <td>7.410578</td>\n",
       "      <td>4</td>\n",
       "      <td>4.537500</td>\n",
       "      <td>4.265031</td>\n",
       "      <td>4</td>\n",
       "    </tr>\n",
       "  </tbody>\n",
       "</table>\n",
       "</div>"
      ],
      "text/plain": [
       "                     E                         RNL                 \n",
       "                  mean        std count       mean        std count\n",
       "DX1      ME                                                        \n",
       "ANGOR IN 0   70.000000  14.142136     2   2.190000   0.056569     2\n",
       "BAVC     0   58.000000        NaN     1   3.720000        NaN     1\n",
       "CAD      0   54.230769  12.397270    13   8.051538   5.059820    13\n",
       "CHA      0   54.000000        NaN     1   5.640000        NaN     1\n",
       "         1   75.000000        NaN     1  23.830000        NaN     1\n",
       "CHC      0   76.000000        NaN     1   4.270000        NaN     1\n",
       "         1   73.333333   7.767453     3   8.053333   6.159646     3\n",
       "CHH      0   54.000000  17.349352     3  13.006667   3.333802     3\n",
       "         1   62.500000  20.047444     6  14.321667  11.815392     6\n",
       "CHS      0   62.375000  13.521808     8   8.378750   6.833028     8\n",
       "         1   67.812500  11.737227    16  13.740000  13.244267    16\n",
       "CHS      1   47.000000   4.242641     2   7.645000   4.900250     2\n",
       "CPS      0   55.000000        NaN     1  45.630000        NaN     1\n",
       "CRI HIP  0   80.000000        NaN     1   6.090000        NaN     1\n",
       "CRIS HIP 0   30.000000        NaN     1   1.470000        NaN     1\n",
       "DHE      0   45.000000        NaN     1  34.820000        NaN     1\n",
       "EDADPU   0   68.000000  12.000000     3   9.243333   9.517628     3\n",
       "EHHNC    0   62.583333  19.085732    12   9.716667   7.327860    12\n",
       "EMER HI  0   47.000000        NaN     1  13.120000        NaN     1\n",
       "ENF MAS  1   74.000000        NaN     1  22.950000        NaN     1\n",
       "EVCH     0   53.500000   9.192388     2   4.690000   4.044651     2\n",
       "EVCI     0   33.000000        NaN     1   4.620000        NaN     1\n",
       "FOM      1   53.000000        NaN     1  65.430000        NaN     1\n",
       "HELLP    0   37.000000   2.828427     2  14.045000   2.764788     2\n",
       "HSA      1   56.000000        NaN     1   2.330000        NaN     1\n",
       "IAM      0   66.774194  16.654748    31   6.767419   5.479543    31\n",
       "INS HEP  0   57.000000        NaN     1   6.670000        NaN     1\n",
       "NEUMO    0   60.000000  29.715316     3  15.300000   5.496290     3\n",
       "         1   85.333333   4.041452     3  20.816667  14.272878     3\n",
       "NEUNO    0   61.666667   5.859465     3  13.113333   8.070826     3\n",
       "PAN      0   61.000000   4.242641     2  11.660000   4.596194     2\n",
       "POAR     0   68.578947  12.915606    19  14.006316   7.144782    19\n",
       "         1   86.000000        NaN     1  14.100000        NaN     1\n",
       "PREE     0   27.000000        NaN     1   5.720000        NaN     1\n",
       "PREE G   0   31.333333   3.785939     3  14.873333   9.929624     3\n",
       "QUE ELE  0   56.000000        NaN     1   4.210000        NaN     1\n",
       "SEPSIS   0   76.000000        NaN     1  10.140000        NaN     1\n",
       "SXPR     0   62.000000        NaN     1  12.570000        NaN     1\n",
       "TSV      0   74.750000   7.410578     4   4.537500   4.265031     4"
      ]
     },
     "execution_count": 549,
     "metadata": {},
     "output_type": "execute_result"
    }
   ],
   "source": [
    "df.groupby(['DX1','ME']).aggregate(['mean','std','count'])[['E','RNL']]"
   ]
  },
  {
   "cell_type": "markdown",
   "metadata": {},
   "source": [
    "### No se alcanza una muestra suficiente para separar por tipo de diagnóstico\n",
    "\n",
    "ftp://ftp.repec.org/opt/ReDIF/RePEc/iad/wpaper/0311.pdf"
   ]
  },
  {
   "cell_type": "code",
   "execution_count": null,
   "metadata": {
    "collapsed": true
   },
   "outputs": [],
   "source": []
  },
  {
   "cell_type": "markdown",
   "metadata": {
    "collapsed": true
   },
   "source": [
    "## Relación edad rnli"
   ]
  },
  {
   "cell_type": "code",
   "execution_count": 550,
   "metadata": {},
   "outputs": [
    {
     "data": {
      "text/plain": [
       "0.12322532251385347"
      ]
     },
     "execution_count": 550,
     "metadata": {},
     "output_type": "execute_result"
    }
   ],
   "source": [
    "df.E.corr(df.RNL)   #PARECE QUE HAY UNA PEQUEÑA CORRELACIÓN LINEAL ENTRE LA EDAD Y RNL"
   ]
  },
  {
   "cell_type": "code",
   "execution_count": 551,
   "metadata": {},
   "outputs": [
    {
     "name": "stdout",
     "output_type": "stream",
     "text": [
      "Coefficients: \n",
      " [ 0.07389515] 6.2788748138\n",
      "Variance score: 0.02\n"
     ]
    },
    {
     "data": {
      "image/png": "[encoded data removed]",
      "text/plain": [
       "<matplotlib.figure.Figure at 0x7f4848cda518>"
      ]
     },
     "metadata": {},
     "output_type": "display_data"
    }
   ],
   "source": [
    "lr = linear_model.LinearRegression()\n",
    "y = df.RNL\n",
    "lr.fit(df.E.values.reshape(-1,1),y)\n",
    "predict = lr.predict(np.array(range(0,100,5)).reshape(-1,1))\n",
    "u = pd.DataFrame(list(zip(list(range(0,100,5)),predict)))\n",
    "u.columns = ['E','RNL']\n",
    "fig, ax = plt.subplots()\n",
    "df.plot(x='E',y='RNL',kind = 'scatter',ax = ax)\n",
    "u.plot(x='E',y='RNL',c='black',ax = ax)\n",
    "# Coeficientes\n",
    "print('Coefficients: \\n', lr.coef_,lr.intercept_)\n",
    "predict = lr.predict(df.E.reshape(-1,1))\n",
    "print('Variance score: %.2f' % r2_score(y, predict))\n",
    "\n"
   ]
  },
  {
   "cell_type": "code",
   "execution_count": 552,
   "metadata": {},
   "outputs": [
    {
     "name": "stdout",
     "output_type": "stream",
     "text": [
      "Coefficients: \n",
      " [ 0.01932611] 9.22154557144\n",
      "Variance score: 0.00\n"
     ]
    },
    {
     "data": {
      "image/png": "[encoded data removed]",
      "text/plain": [
       "<matplotlib.figure.Figure at 0x7f484a188470>"
      ]
     },
     "metadata": {},
     "output_type": "display_data"
    }
   ],
   "source": [
    "lr = linear_model.LinearRegression()\n",
    "y = df.NEU\n",
    "lr.fit(df.E.values.reshape(-1,1),y)\n",
    "predict = lr.predict(np.array(range(0,100,5)).reshape(-1,1))\n",
    "u = pd.DataFrame(list(zip(list(range(0,100,5)),predict)))\n",
    "u.columns = ['E','NEU']\n",
    "fig, ax = plt.subplots()\n",
    "df.plot(x='E',y='NEU',kind = 'scatter',ax = ax)\n",
    "u.plot(x='E',y='NEU',c='black',ax = ax)\n",
    "# Coeficientes\n",
    "print('Coefficients: \\n', lr.coef_,lr.intercept_)\n",
    "predict = lr.predict(df.E.reshape(-1,1))\n",
    "print('Variance score: %.2f' % r2_score(y, predict))"
   ]
  },
  {
   "cell_type": "code",
   "execution_count": 553,
   "metadata": {},
   "outputs": [
    {
     "name": "stdout",
     "output_type": "stream",
     "text": [
      "Coefficients: \n",
      " [-0.01091537] 2.03306024678\n",
      "Variance score: 0.02\n"
     ]
    },
    {
     "data": {
      "image/png": "[encoded data removed]",
      "text/plain": [
       "<matplotlib.figure.Figure at 0x7f4848f021d0>"
      ]
     },
     "metadata": {},
     "output_type": "display_data"
    }
   ],
   "source": [
    "lr = linear_model.LinearRegression()\n",
    "y = df.LIN\n",
    "lr.fit(df.E.values.reshape(-1,1),y)\n",
    "predict = lr.predict(np.array(range(0,100,5)).reshape(-1,1))\n",
    "u = pd.DataFrame(list(zip(list(range(0,100,5)),predict)))\n",
    "u.columns = ['E','LIN']\n",
    "fig, ax = plt.subplots()\n",
    "df.plot(x='E',y='LIN',kind = 'scatter',ax = ax)\n",
    "u.plot(x='E',y='LIN',c='black',ax = ax)\n",
    "# Coeficientes\n",
    "print('Coefficients: \\n', lr.coef_,lr.intercept_)\n",
    "predict = lr.predict(df.E.reshape(-1,1))\n",
    "print('Variance score: %.2f' % r2_score(y, predict))"
   ]
  },
  {
   "cell_type": "code",
   "execution_count": 554,
   "metadata": {
    "collapsed": true
   },
   "outputs": [],
   "source": [
    "## Dividamos por ME"
   ]
  },
  {
   "cell_type": "code",
   "execution_count": 555,
   "metadata": {},
   "outputs": [
    {
     "name": "stdout",
     "output_type": "stream",
     "text": [
      "Coefficients ME = 0: \n",
      " [ 0.02650222] 8.06501228522\n",
      "Variance score ME = 0: 0.00\n",
      "Coefficients ME = 1: \n",
      " [ 0.17816452] 3.23849828773\n",
      "Variance score: 0.03 ME = 1\n"
     ]
    },
    {
     "data": {
      "text/plain": [
       "<matplotlib.legend.Legend at 0x7f484908ee80>"
      ]
     },
     "execution_count": 555,
     "metadata": {},
     "output_type": "execute_result"
    },
    {
     "data": {
      "image/png": "[encoded data removed]",
      "text/plain": [
       "<matplotlib.figure.Figure at 0x7f484915b128>"
      ]
     },
     "metadata": {},
     "output_type": "display_data"
    }
   ],
   "source": [
    "df1 = df.loc[df.ME ==0,:]\n",
    "lr = linear_model.LinearRegression()\n",
    "y = df1.RNL\n",
    "lr.fit(df1.E.values.reshape(-1,1),y)\n",
    "predict = lr.predict(np.array(range(0,100,5)).reshape(-1,1))\n",
    "u = pd.DataFrame(list(zip(list(range(0,100,5)),predict)))\n",
    "u.columns = ['E','RNL']\n",
    "fig, ax = plt.subplots()\n",
    "df1.plot(x='E',y='RNL',kind = 'scatter',ax = ax,color = 'xkcd:blue')\n",
    "u.plot(x='E',y='RNL',c='xkcd:blue',ax = ax, label = 'RNL ME = 0')\n",
    "# Coeficientes\n",
    "print('Coefficients ME = 0: \\n', lr.coef_,lr.intercept_)\n",
    "predict = lr.predict(df1.E.reshape(-1,1))\n",
    "print('Variance score ME = 0: %.2f' % r2_score(y, predict))\n",
    "\n",
    "df2 = df.loc[df.ME ==1,:]\n",
    "lr = linear_model.LinearRegression()\n",
    "y = df2.RNL\n",
    "lr.fit(df2.E.values.reshape(-1,1),y)\n",
    "predict = lr.predict(np.array(range(0,100,5)).reshape(-1,1))\n",
    "v= pd.DataFrame(list(zip(list(range(0,100,5)),predict)))\n",
    "v.columns = ['E','RNL']\n",
    "df2.plot(x='E',y='RNL',kind = 'scatter',ax = ax,color = 'xkcd:red')\n",
    "v.plot(x='E',y='RNL',c='black',ax = ax,color = 'xkcd:red',label = 'RNL ME = 0')\n",
    "# Coeficientes\n",
    "print('Coefficients ME = 1: \\n', lr.coef_,lr.intercept_)\n",
    "predict = lr.predict(df2.E.reshape(-1,1))\n",
    "print('Variance score: %.2f ME = 1' % r2_score(y, predict))\n",
    "ax.legend(['RNL ME = 0','RNL ME = 1'])\n"
   ]
  },
  {
   "cell_type": "markdown",
   "metadata": {
    "collapsed": true
   },
   "source": [
    "* La edad y la relación NL están correlacionadas, a mayor edad la RNL parece ser un mejor indicador de ME"
   ]
  },
  {
   "cell_type": "markdown",
   "metadata": {},
   "source": [
    "# Regresión Logística"
   ]
  },
  {
   "cell_type": "code",
   "execution_count": 556,
   "metadata": {
    "collapsed": true
   },
   "outputs": [],
   "source": [
    "\n",
    "y = np.array(df.ME.values,dtype = int)\n",
    "X = df[['E','RNL']]\n",
    "X_train, X_test, y_train, y_test = train_test_split(X, y, test_size = .3, random_state=25)"
   ]
  },
  {
   "cell_type": "code",
   "execution_count": 557,
   "metadata": {},
   "outputs": [
    {
     "data": {
      "text/plain": [
       "LogisticRegression(C=1.0, class_weight=None, dual=False, fit_intercept=True,\n",
       "          intercept_scaling=1, max_iter=100, multi_class='ovr', n_jobs=1,\n",
       "          penalty='l2', random_state=None, solver='liblinear', tol=0.0001,\n",
       "          verbose=0, warm_start=False)"
      ]
     },
     "execution_count": 557,
     "metadata": {},
     "output_type": "execute_result"
    }
   ],
   "source": [
    "lr = linear_model.LogisticRegression()\n",
    "\n",
    "lr.fit(X_train, y_train)\n"
   ]
  },
  {
   "cell_type": "code",
   "execution_count": 558,
   "metadata": {},
   "outputs": [
    {
     "data": {
      "text/plain": [
       "array([[39,  1],\n",
       "       [ 8,  0]])"
      ]
     },
     "execution_count": 558,
     "metadata": {},
     "output_type": "execute_result"
    }
   ],
   "source": [
    "y_pred = lr.predict(X_test)\n",
    "from sklearn.metrics import confusion_matrix\n",
    "confusion_matrix = confusion_matrix(y_test, y_pred)\n",
    "confusion_matrix"
   ]
  },
  {
   "cell_type": "code",
   "execution_count": 559,
   "metadata": {},
   "outputs": [
    {
     "name": "stdout",
     "output_type": "stream",
     "text": [
      "             precision    recall  f1-score   support\n",
      "\n",
      "          0       0.83      0.97      0.90        40\n",
      "          1       0.00      0.00      0.00         8\n",
      "\n",
      "avg / total       0.69      0.81      0.75        48\n",
      "\n"
     ]
    }
   ],
   "source": [
    "print(classification_report(y_test, y_pred))"
   ]
  },
  {
   "cell_type": "markdown",
   "metadata": {},
   "source": [
    "Mal resultado, no logra predecir ninguna muerte"
   ]
  },
  {
   "cell_type": "code",
   "execution_count": null,
   "metadata": {
    "collapsed": true
   },
   "outputs": [],
   "source": []
  },
  {
   "cell_type": "markdown",
   "metadata": {},
   "source": [
    "# Árboles de decisión"
   ]
  },
  {
   "cell_type": "code",
   "execution_count": 560,
   "metadata": {},
   "outputs": [
    {
     "data": {
      "text/plain": [
       "DecisionTreeClassifier(class_weight=None, criterion='gini', max_depth=None,\n",
       "            max_features=None, max_leaf_nodes=None,\n",
       "            min_impurity_decrease=0.0, min_impurity_split=None,\n",
       "            min_samples_leaf=1, min_samples_split=2,\n",
       "            min_weight_fraction_leaf=0.0, presort=False, random_state=None,\n",
       "            splitter='best')"
      ]
     },
     "execution_count": 560,
     "metadata": {},
     "output_type": "execute_result"
    }
   ],
   "source": [
    "lr = tree.DecisionTreeClassifier()\n",
    "\n",
    "lr.fit(X_train, y_train)\n"
   ]
  },
  {
   "cell_type": "code",
   "execution_count": 561,
   "metadata": {},
   "outputs": [
    {
     "data": {
      "text/plain": [
       "array([[28, 12],\n",
       "       [ 4,  4]])"
      ]
     },
     "execution_count": 561,
     "metadata": {},
     "output_type": "execute_result"
    }
   ],
   "source": [
    "y_pred = lr.predict(X_test)\n",
    "from sklearn.metrics import confusion_matrix\n",
    "confusion_matrix = confusion_matrix(y_test, y_pred)\n",
    "confusion_matrix"
   ]
  },
  {
   "cell_type": "code",
   "execution_count": 562,
   "metadata": {},
   "outputs": [
    {
     "name": "stdout",
     "output_type": "stream",
     "text": [
      "             precision    recall  f1-score   support\n",
      "\n",
      "          0       0.88      0.70      0.78        40\n",
      "          1       0.25      0.50      0.33         8\n",
      "\n",
      "avg / total       0.77      0.67      0.70        48\n",
      "\n"
     ]
    }
   ],
   "source": [
    "print(classification_report(y_test, y_pred))"
   ]
  },
  {
   "cell_type": "markdown",
   "metadata": {},
   "source": [
    "Mal resultado, aunque comienza a predecir ahora muertes, el f1-score sigue siendo muy bajo"
   ]
  },
  {
   "cell_type": "markdown",
   "metadata": {},
   "source": [
    "# Árboles de decisión con todas las características"
   ]
  },
  {
   "cell_type": "code",
   "execution_count": 563,
   "metadata": {},
   "outputs": [],
   "source": [
    "\n",
    "y = np.array(df.ME.values,dtype = int)\n",
    "del df['ME'], df['Nombre'], df['DX2'],df['DX3'],df['DX4']\n",
    "df.DX1 = df.DX1.astype(\"category\", categories=df.DX1.unique().tolist()).cat.codes\n",
    "X = df\n",
    "X_train, X_test, y_train, y_test = train_test_split(X, y, test_size = .3, random_state=25)"
   ]
  },
  {
   "cell_type": "code",
   "execution_count": null,
   "metadata": {},
   "outputs": [],
   "source": []
  },
  {
   "cell_type": "code",
   "execution_count": 564,
   "metadata": {},
   "outputs": [
    {
     "data": {
      "text/plain": [
       "DecisionTreeClassifier(class_weight=None, criterion='gini', max_depth=None,\n",
       "            max_features=None, max_leaf_nodes=None,\n",
       "            min_impurity_decrease=0.0, min_impurity_split=None,\n",
       "            min_samples_leaf=1, min_samples_split=2,\n",
       "            min_weight_fraction_leaf=0.0, presort=False, random_state=None,\n",
       "            splitter='best')"
      ]
     },
     "execution_count": 564,
     "metadata": {},
     "output_type": "execute_result"
    }
   ],
   "source": [
    "lr = tree.DecisionTreeClassifier()\n",
    "\n",
    "lr.fit(X_train, y_train)\n"
   ]
  },
  {
   "cell_type": "code",
   "execution_count": 565,
   "metadata": {},
   "outputs": [
    {
     "data": {
      "text/plain": [
       "array([[35,  5],\n",
       "       [ 2,  6]])"
      ]
     },
     "execution_count": 565,
     "metadata": {},
     "output_type": "execute_result"
    }
   ],
   "source": [
    "y_pred = lr.predict(X_test)\n",
    "from sklearn.metrics import confusion_matrix\n",
    "confusion_matrix = confusion_matrix(y_test, y_pred)\n",
    "confusion_matrix"
   ]
  },
  {
   "cell_type": "code",
   "execution_count": 566,
   "metadata": {},
   "outputs": [
    {
     "name": "stdout",
     "output_type": "stream",
     "text": [
      "             precision    recall  f1-score   support\n",
      "\n",
      "          0       0.95      0.88      0.91        40\n",
      "          1       0.55      0.75      0.63         8\n",
      "\n",
      "avg / total       0.88      0.85      0.86        48\n",
      "\n"
     ]
    }
   ],
   "source": [
    "print(classification_report(y_test, y_pred))"
   ]
  },
  {
   "cell_type": "code",
   "execution_count": null,
   "metadata": {},
   "outputs": [],
   "source": []
  }
 ],
 "metadata": {
  "kernelspec": {
   "display_name": "Python 3",
   "language": "python",
   "name": "python3"
  },
  "language_info": {
   "codemirror_mode": {
    "name": "ipython",
    "version": 3
   },
   "file_extension": ".py",
   "mimetype": "text/x-python",
   "name": "python",
   "nbconvert_exporter": "python",
   "pygments_lexer": "ipython3",
   "version": "3.6.1"
  }
 },
 "nbformat": 4,
 "nbformat_minor": 2
}
